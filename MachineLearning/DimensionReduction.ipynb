{
 "nbformat": 4,
 "nbformat_minor": 2,
 "metadata": {
  "language_info": {
   "name": "python",
   "codemirror_mode": {
    "name": "ipython",
    "version": 3
   },
   "version": "3.8.1-final"
  },
  "orig_nbformat": 2,
  "file_extension": ".py",
  "mimetype": "text/x-python",
  "name": "python",
  "npconvert_exporter": "python",
  "pygments_lexer": "ipython3",
  "version": 3,
  "kernelspec": {
   "name": "python38164bitdataconda5467872f862141fb83a5467f0628293e",
   "display_name": "Python 3.8.1 64-bit ('Data': conda)"
  }
 },
 "cells": [
  {
   "cell_type": "code",
   "execution_count": 1,
   "metadata": {},
   "outputs": [],
   "source": [
    "import pandas as pd"
   ]
  },
  {
   "cell_type": "code",
   "execution_count": 3,
   "metadata": {},
   "outputs": [
    {
     "data": {
      "text/html": "<div>\n<style scoped>\n    .dataframe tbody tr th:only-of-type {\n        vertical-align: middle;\n    }\n\n    .dataframe tbody tr th {\n        vertical-align: top;\n    }\n\n    .dataframe thead th {\n        text-align: right;\n    }\n</style>\n<table border=\"1\" class=\"dataframe\">\n  <thead>\n    <tr style=\"text-align: right;\">\n      <th></th>\n      <th>HP</th>\n      <th>Attack</th>\n      <th>Defense</th>\n      <th>Generation</th>\n      <th>Name</th>\n      <th>Type</th>\n      <th>Legendary</th>\n    </tr>\n  </thead>\n  <tbody>\n    <tr>\n      <th>0</th>\n      <td>45</td>\n      <td>49</td>\n      <td>49</td>\n      <td>1</td>\n      <td>Bulbasaur</td>\n      <td>Grass</td>\n      <td>False</td>\n    </tr>\n    <tr>\n      <th>1</th>\n      <td>60</td>\n      <td>62</td>\n      <td>63</td>\n      <td>1</td>\n      <td>Ivysaur</td>\n      <td>Grass</td>\n      <td>False</td>\n    </tr>\n    <tr>\n      <th>2</th>\n      <td>80</td>\n      <td>82</td>\n      <td>83</td>\n      <td>1</td>\n      <td>Venusaur</td>\n      <td>Grass</td>\n      <td>False</td>\n    </tr>\n    <tr>\n      <th>3</th>\n      <td>39</td>\n      <td>52</td>\n      <td>43</td>\n      <td>1</td>\n      <td>Charmander</td>\n      <td>Fire</td>\n      <td>False</td>\n    </tr>\n    <tr>\n      <th>4</th>\n      <td>58</td>\n      <td>64</td>\n      <td>58</td>\n      <td>1</td>\n      <td>Charmeleon</td>\n      <td>Fire</td>\n      <td>False</td>\n    </tr>\n    <tr>\n      <th>...</th>\n      <td>...</td>\n      <td>...</td>\n      <td>...</td>\n      <td>...</td>\n      <td>...</td>\n      <td>...</td>\n      <td>...</td>\n    </tr>\n    <tr>\n      <th>142</th>\n      <td>60</td>\n      <td>110</td>\n      <td>65</td>\n      <td>1</td>\n      <td>Snorlax</td>\n      <td>Normal</td>\n      <td>False</td>\n    </tr>\n    <tr>\n      <th>143</th>\n      <td>41</td>\n      <td>64</td>\n      <td>45</td>\n      <td>1</td>\n      <td>Dratini</td>\n      <td>Dragon</td>\n      <td>False</td>\n    </tr>\n    <tr>\n      <th>144</th>\n      <td>61</td>\n      <td>84</td>\n      <td>65</td>\n      <td>1</td>\n      <td>Dragonair</td>\n      <td>Dragon</td>\n      <td>False</td>\n    </tr>\n    <tr>\n      <th>145</th>\n      <td>91</td>\n      <td>134</td>\n      <td>95</td>\n      <td>1</td>\n      <td>Dragonite</td>\n      <td>Dragon</td>\n      <td>False</td>\n    </tr>\n    <tr>\n      <th>146</th>\n      <td>0</td>\n      <td>100</td>\n      <td>100</td>\n      <td>1</td>\n      <td>Mew</td>\n      <td>Psychic</td>\n      <td>False</td>\n    </tr>\n  </tbody>\n</table>\n<p>147 rows × 7 columns</p>\n</div>",
      "text/plain": "     HP  Attack  Defense  Generation        Name     Type  Legendary\n0    45      49       49           1   Bulbasaur    Grass      False\n1    60      62       63           1     Ivysaur    Grass      False\n2    80      82       83           1    Venusaur    Grass      False\n3    39      52       43           1  Charmander     Fire      False\n4    58      64       58           1  Charmeleon     Fire      False\n..   ..     ...      ...         ...         ...      ...        ...\n142  60     110       65           1     Snorlax   Normal      False\n143  41      64       45           1     Dratini   Dragon      False\n144  61      84       65           1   Dragonair   Dragon      False\n145  91     134       95           1   Dragonite   Dragon      False\n146   0     100      100           1         Mew  Psychic      False\n\n[147 rows x 7 columns]"
     },
     "execution_count": 3,
     "metadata": {},
     "output_type": "execute_result"
    }
   ],
   "source": [
    "pkmn = pd.read_csv('~/DevSpace/Data-Snippets/MachineLearning/datasets/pkmn.csv')\n",
    "pkmn"
   ]
  },
  {
   "cell_type": "code",
   "execution_count": null,
   "metadata": {},
   "outputs": [],
   "source": []
  }
 ]
}